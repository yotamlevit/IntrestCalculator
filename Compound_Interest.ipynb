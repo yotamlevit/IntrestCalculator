{
 "cells": [
  {
   "cell_type": "code",
   "execution_count": 8,
   "metadata": {},
   "outputs": [],
   "source": [
    "import ipywidgets as widgets\n",
    "from IPython.display import display\n",
    "import matplotlib.pyplot as plt\n",
    "import plotly.graph_objects as go"
   ]
  },
  {
   "cell_type": "code",
   "execution_count": 9,
   "metadata": {},
   "outputs": [],
   "source": [
    "def get_monthly_contributions(monthly_contributions_info, total_years):\n",
    "    monthly_contributions = [0] * (total_years * 12)  # Initialize contributions list for all months\n",
    "    for info in monthly_contributions_info:\n",
    "        years_range, monthly_contribution = info.split(':')\n",
    "        start_year, end_year = map(int, years_range.split('-'))\n",
    "        for month in range((start_year - 1) * 12, end_year * 12):\n",
    "            if month < len(monthly_contributions):\n",
    "                monthly_contributions[month] = float(monthly_contribution)\n",
    "    \n",
    "    return monthly_contributions\n",
    "\n",
    "\n",
    "def calculate_compound_interest(principal, monthly_contributions, annual_interest_rate, total_years):\n",
    "    balances = [principal]  # Initial balance included\n",
    "    current_balance = principal\n",
    "    monthly_rate = (1 + annual_interest_rate/100) ** (1/12) - 1  # Calculate monthly compounding rate\n",
    "\n",
    "    # Iterate over each month and calculate balance\n",
    "    for month in range(total_years * 12):\n",
    "        current_balance += monthly_contributions[month]\n",
    "        current_balance *= (1 + monthly_rate)\n",
    "        if (month + 1) % 12 == 0:  # Append balance at the end of each year\n",
    "            balances.append(current_balance)\n",
    "\n",
    "    return balances\n",
    "\n",
    "\n",
    "def calculate_total_investment(principal, monthly_contributions, total_years):\n",
    "    balances = [principal]\n",
    "    current_balance = principal\n",
    "\n",
    "    for month in range(total_years * 12):\n",
    "        current_balance += monthly_contributions[month]\n",
    "        if (month + 1) % 12 == 0:  # Append balance at the end of each year\n",
    "            balances.append(current_balance)\n",
    "\n",
    "    return balances\n"
   ]
  },
  {
   "cell_type": "code",
   "execution_count": 10,
   "metadata": {},
   "outputs": [
    {
     "data": {
      "application/vnd.jupyter.widget-view+json": {
       "model_id": "5091256ce9be415184a23da6d80fda67",
       "version_major": 2,
       "version_minor": 0
      },
      "text/plain": [
       "FloatText(value=1000.0, description='Principal:')"
      ]
     },
     "metadata": {},
     "output_type": "display_data"
    },
    {
     "data": {
      "application/vnd.jupyter.widget-view+json": {
       "model_id": "a3893baf422b4ee7bfc14beb5b53fe77",
       "version_major": 2,
       "version_minor": 0
      },
      "text/plain": [
       "Textarea(value='1-2:1000\\n3-4:1200', description='Monthly Contributions:')"
      ]
     },
     "metadata": {},
     "output_type": "display_data"
    },
    {
     "data": {
      "application/vnd.jupyter.widget-view+json": {
       "model_id": "8676c4a425a04d3ab8cf861fc906ba3e",
       "version_major": 2,
       "version_minor": 0
      },
      "text/plain": [
       "FloatText(value=8.0, description='Annual Interest Rate:')"
      ]
     },
     "metadata": {},
     "output_type": "display_data"
    },
    {
     "data": {
      "application/vnd.jupyter.widget-view+json": {
       "model_id": "3e202236e1224b4c99fb64f2014b99ce",
       "version_major": 2,
       "version_minor": 0
      },
      "text/plain": [
       "Button(description='Calculate and Plot', style=ButtonStyle())"
      ]
     },
     "metadata": {},
     "output_type": "display_data"
    }
   ],
   "source": [
    "principal_widget = widgets.FloatText(value=1000, description='Principal:')\n",
    "monthly_contributions_widget = widgets.Textarea(value='1-2:1000\\n3-4:1200', description='Monthly Contributions:')\n",
    "annual_interest_rate_widget = widgets.FloatText(value=8, description='Annual Interest Rate:')\n",
    "\n",
    "button = widgets.Button(description=\"Calculate and Plot\")\n",
    "display(principal_widget, monthly_contributions_widget, annual_interest_rate_widget, button)\n",
    "\n",
    "\n",
    "\n",
    "def get_total_years(monthly_contributions_widget):\n",
    "    return int(monthly_contributions_widget[-1].split(':')[0].split('-')[-1])\n",
    "\n",
    "\n",
    "def on_button_clicked(b):\n",
    "    principal = principal_widget.value\n",
    "    monthly_contributions_info = monthly_contributions_widget.value.strip().split('\\n')\n",
    "    annual_interest_rate = annual_interest_rate_widget.value\n",
    "    total_years = get_total_years(monthly_contributions_info)\n",
    "    monthly_contributions = get_monthly_contributions(monthly_contributions_info=monthly_contributions_info, total_years=total_years)\n",
    "\n",
    "    # Calculate compound interest balances\n",
    "    balances = calculate_compound_interest(principal, monthly_contributions, annual_interest_rate, total_years)\n",
    "    \n",
    "    # Calculate total investment balances without interest\n",
    "    total_investment_balances = calculate_total_investment(principal, monthly_contributions, total_years)\n",
    "\n",
    "    # Create Plotly figure\n",
    "    fig = go.Figure()\n",
    "    years_axis = list(range(total_years + 1))\n",
    "\n",
    "    # Add traces for both sets of balances\n",
    "    fig.add_trace(go.Scatter(x=years_axis, y=balances, mode='markers+lines', name='Balance with Interest', hoverinfo='y+name'))\n",
    "    fig.add_trace(go.Scatter(x=years_axis, y=total_investment_balances, mode='markers+lines', name='Total Investment without Interest', hoverinfo='y+name', line=dict(dash='dash')))\n",
    "\n",
    "    # Update plot layout\n",
    "    fig.update_layout(\n",
    "        title='Compound Interest vs. Total Investment Over Time',\n",
    "        xaxis_title='Years',\n",
    "        yaxis_title='Balance',\n",
    "        legend_title='Legend',\n",
    "        hovermode='x unified'\n",
    "    )\n",
    "\n",
    "    fig.show()\n",
    "\n",
    "\n",
    "button.on_click(on_button_clicked)\n",
    "\n",
    "\n",
    "\n"
   ]
  },
  {
   "cell_type": "code",
   "execution_count": null,
   "metadata": {},
   "outputs": [],
   "source": []
  }
 ],
 "metadata": {
  "kernelspec": {
   "display_name": "Python 3",
   "language": "python",
   "name": "python3"
  },
  "language_info": {
   "codemirror_mode": {
    "name": "ipython",
    "version": 3
   },
   "file_extension": ".py",
   "mimetype": "text/x-python",
   "name": "python",
   "nbconvert_exporter": "python",
   "pygments_lexer": "ipython3",
   "version": "3.12.1"
  }
 },
 "nbformat": 4,
 "nbformat_minor": 2
}
